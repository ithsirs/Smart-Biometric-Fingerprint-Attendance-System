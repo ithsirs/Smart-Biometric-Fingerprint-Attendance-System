{
  "cells": [
    {
      "cell_type": "markdown",
      "metadata": {
        "id": "ELB1TTT3QdF9"
      },
      "source": [
        "# Embedding samples, storing them in database for future use, and prediction testing"
      ]
    },
    {
      "cell_type": "code",
      "execution_count": 4,
      "metadata": {
        "id": "sb2xrQAGs96w"
      },
      "outputs": [],
      "source": [
        "path=\"C:\\\\Users\\\\srish\\\\Downloads\\\\archive\\\\SOCOFing\\\\Real\""
      ]
    },
    {
      "cell_type": "code",
      "execution_count": null,
      "metadata": {
        "id": "OiJdxTBD1pHI"
      },
      "outputs": [],
      "source": []
    },
    {
      "cell_type": "code",
      "execution_count": null,
      "metadata": {
        "id": "S8fABVcLG3jq"
      },
      "outputs": [],
      "source": [
        "import psycopg2\n",
        "\n",
        "\n",
        "def connect():\n",
        "    conn = psycopg2.connect('REDACTED') # Replace with your connection string\n",
        "\n",
        "    query_sql = 'SELECT VERSION()'\n",
        "\n",
        "    cur = conn.cursor()\n",
        "    return cur, conn\n",
        "\n",
        "\n"
      ]
    },
    {
      "cell_type": "markdown",
      "metadata": {
        "id": "M80rLRFVlIM3"
      },
      "source": [
        "# Embedding and Storing"
      ]
    },
    {
      "cell_type": "code",
      "execution_count": 2,
      "metadata": {},
      "outputs": [],
      "source": [
        "import os\n",
        "import numpy as np\n",
        "import torch\n",
        "import torch.nn.functional as F\n",
        "from PIL import Image\n",
        "from torchvision import transforms\n",
        "import psycopg2\n",
        "from pgvector.psycopg2 import register_vector\n",
        "from psycopg2.extras import execute_values"
      ]
    },
    {
      "cell_type": "code",
      "execution_count": 5,
      "metadata": {
        "colab": {
          "base_uri": "https://localhost:8080/"
        },
        "id": "nLix-2znbH5Y",
        "outputId": "88e2191e-efdd-461c-8977-bc7feb4aa17d"
      },
      "outputs": [],
      "source": [
        "\n",
        "\n",
        "\n",
        "# -----------------------------------------\n",
        "# 1) Recreate your metric-learning model\n",
        "# -----------------------------------------\n",
        "import torch.nn as nn\n",
        "from torchvision.models import resnet18, ResNet18_Weights\n",
        "\n",
        "class FingerprintNet(nn.Module):\n",
        "    def __init__(self, embedding_dim=128):\n",
        "        super().__init__()\n",
        "        self.backbone = resnet18(weights=ResNet18_Weights.DEFAULT)\n",
        "        self.backbone.conv1 = nn.Conv2d(1, 64, kernel_size=7, stride=2, padding=3, bias=False)\n",
        "        num_ftrs = self.backbone.fc.in_features\n",
        "        self.backbone.fc = nn.Linear(num_ftrs, embedding_dim)\n",
        "\n",
        "    def forward(self, x):\n",
        "        return F.normalize(self.backbone(x), p=2, dim=1)\n",
        "\n",
        "# -----------------------------------------\n",
        "# 2) Load your fine-tuned model\n",
        "# -----------------------------------------\n",
        "MODEL_PATH = \"D:\\\\Biometric attendance\\\\fingerprint_model.pth\"\n",
        "device = torch.device(\"cuda\" if torch.cuda.is_available() else \"cpu\")\n",
        "\n",
        "model = FingerprintNet(embedding_dim=128).to(device)\n",
        "state = torch.load(MODEL_PATH, map_location=device, weights_only=False)\n",
        "model.load_state_dict(state)\n",
        "model.eval()\n",
        "\n",
        "# -----------------------------------------\n",
        "# 3) Precompute gallery embeddings\n",
        "# -----------------------------------------\n",
        "DATA_DIR = path\n",
        "transform = transforms.Compose([\n",
        "    transforms.Resize((224,224)),\n",
        "    transforms.ToTensor(),\n",
        "    transforms.Normalize([0.5], [0.5])\n",
        "])\n",
        "\n",
        "# gather all BMP paths\n",
        "gallery_paths = []\n",
        "for root, _, files in os.walk(DATA_DIR):\n",
        "    for f in files:\n",
        "        if f.lower().endswith(\".bmp\"):\n",
        "            gallery_paths.append(os.path.join(root, f))\n",
        "gallery_paths.sort()\n",
        "\n",
        "# compute embeddings\n",
        "gallery_records = []  # list of (file_id, [128 floats])\n",
        "with torch.no_grad():\n",
        "    for path in gallery_paths:\n",
        "        img = Image.open(path).convert(\"L\")\n",
        "        t   = transform(img).unsqueeze(0).to(device)\n",
        "        emb = model(t).cpu().numpy().flatten().tolist()\n",
        "        file_id = os.path.basename(path)\n",
        "        gallery_records.append((file_id, emb))\n",
        "\n"
      ]
    },
    {
      "cell_type": "markdown",
      "metadata": {
        "id": "CFXR-Vq61izX"
      },
      "source": [
        "# Prediction"
      ]
    },
    {
      "cell_type": "code",
      "execution_count": 6,
      "metadata": {
        "colab": {
          "base_uri": "https://localhost:8080/"
        },
        "id": "tvqwcLIidzoZ",
        "outputId": "7caf317e-606a-458c-d5a6-204a755875d1"
      },
      "outputs": [
        {
          "name": "stdout",
          "output_type": "stream",
          "text": [
            "Loaded 6000 embeddings from DB\n"
          ]
        }
      ],
      "source": [
        "# -----------------------------------------\n",
        "# 5) Fetch all embeddings at once\n",
        "# -----------------------------------------\n",
        "def load_all_embeddings():\n",
        "    cur, conn = connect()\n",
        "    register_vector(conn)\n",
        "    cur.execute(\"SELECT file_id, embedding FROM public.fingerprint_embeddings_new ORDER BY file_id ASC;\")\n",
        "    rows = cur.fetchall()\n",
        "    cur.close()\n",
        "    conn.close()\n",
        "\n",
        "    file_ids = [row[0] for row in rows]\n",
        "    embeddings = np.stack([np.array(row[1], dtype=float) for row in rows], axis=0)\n",
        "    return file_ids, embeddings\n",
        "\n",
        "# Usage:\n",
        "file_ids, embeddings = load_all_embeddings()\n",
        "print(\"Loaded\", len(file_ids), \"embeddings from DB\")\n",
        "gallery_embeddings = np.array(embeddings)  # shape [N,128]\n"
      ]
    },
    {
      "cell_type": "code",
      "execution_count": 7,
      "metadata": {
        "id": "v_zG5vKkdzk7"
      },
      "outputs": [],
      "source": [
        "def predict_fingerprint_from_db(test_image_path, top_k=1):\n",
        "    img = Image.open(test_image_path).convert(\"L\")\n",
        "    t = transform(img).unsqueeze(0)  # shape [1,1,224,224]\n",
        "    t = t.to(device)\n",
        "\n",
        "    with torch.no_grad():\n",
        "        q_emb = model(t).cpu().numpy()  # shape [1,128]\n",
        "\n",
        "    sims = cosine_similarity(q_emb, gallery_embeddings)[0]  # shape [N]\n",
        "    best_idxs = np.argsort(sims)[::-1][:top_k]\n",
        "\n",
        "    results = [(file_ids[i], float(sims[i])) for i in best_idxs]\n",
        "    return results"
      ]
    },
    {
      "cell_type": "code",
      "execution_count": 10,
      "metadata": {
        "id": "BVzO43DwkqMs"
      },
      "outputs": [],
      "source": [
        "from sklearn.metrics.pairwise import cosine_similarity"
      ]
    },
    {
      "cell_type": "markdown",
      "metadata": {},
      "source": [
        "# Update Attendance\n"
      ]
    },
    {
      "cell_type": "code",
      "execution_count": 22,
      "metadata": {
        "id": "BIEaS1-6nLke"
      },
      "outputs": [],
      "source": [
        "from datetime import datetime\n",
        "import uuid\n",
        "\n",
        "def mark_attendance_for_best_match():\n",
        "    subject_code = input(\"Enter the subject code: \")\n",
        "    command = input(\"Enter 'start' to mark attendance, Enter 'close' to stop the attendance: \")\n",
        "\n",
        "    while command.lower() != \"close\":\n",
        "        image_path = input(\"Enter the path of the fingerprint image: \").strip().strip('\"')\n",
        "\n",
        "        matches = predict_fingerprint_from_db(image_path, top_k=1)\n",
        "\n",
        "        if not matches:\n",
        "            print(\"No match found.\")\n",
        "            continue\n",
        "\n",
        "        user_id = matches[0][0].split(\"_\")[0]\n",
        "        print(f\"Predicted user ID: {user_id}\")\n",
        "        print(\"Top matches:\")\n",
        "        for file_id, score in matches:\n",
        "            print(f\"→ {file_id} (similarity: {score:.4f})\")\n",
        "\n",
        "        cur, conn = connect()\n",
        "        now = datetime.now()\n",
        "        timestamp = now.strftime(\"%Y-%m-%d %H:%M:%S\")\n",
        "        attendance_id = str(uuid.uuid4())  # or keep your string format\n",
        "\n",
        "        # Fetch department and year\n",
        "        cur.execute(\"SELECT dept, year FROM users WHERE user_id = %s;\", (user_id,))\n",
        "        user_info = cur.fetchone()\n",
        "        if not user_info:\n",
        "            print(f\"User ID {user_id} not found in users table.\")\n",
        "            continue\n",
        "\n",
        "        department, year = user_info\n",
        "\n",
        "        # Insert attendance record\n",
        "        cur.execute(\"\"\"\n",
        "            INSERT INTO mark_attendance (attendance_id, user_id, department, year, subject_code, date, status)\n",
        "            VALUES (%s, %s, %s, %s, %s, %s, %s);\n",
        "        \"\"\", (attendance_id, user_id, department, year, subject_code, timestamp, \"present\"))\n",
        "\n",
        "        conn.commit()\n",
        "        print(f\"✅ Attendance marked as 'Present' for user_id: {user_id} at {timestamp}\")\n",
        "\n",
        "        command = input(\"Enter next command ('close' to stop): \")\n",
        "\n",
        "    conn.close()\n"
      ]
    },
    {
      "cell_type": "code",
      "execution_count": 24,
      "metadata": {},
      "outputs": [
        {
          "name": "stdout",
          "output_type": "stream",
          "text": [
            "Predicted user ID: 3\n",
            "Top matches:\n",
            "→ 3__M_Left_middle_finger.BMP (similarity: 1.0000)\n",
            "✅ Attendance marked as 'Present' for user_id: 3 at 2025-05-26 14:00:34\n",
            "Predicted user ID: 14\n",
            "Top matches:\n",
            "→ 14__M_Right_index_finger.BMP (similarity: 1.0000)\n",
            "✅ Attendance marked as 'Present' for user_id: 14 at 2025-05-26 14:01:09\n"
          ]
        }
      ],
      "source": [
        "\n",
        "mark_attendance_for_best_match()"
      ]
    },
    {
      "cell_type": "code",
      "execution_count": 26,
      "metadata": {},
      "outputs": [
        {
          "name": "stdout",
          "output_type": "stream",
          "text": [
            "('56683055-bba2-485e-b705-c1131e5962ea', 1, 'CE', 2, 'CSE3217', datetime.date(2025, 5, 26), 'present')\n",
            "('a646a108-75c5-4032-bbe4-1746356477ef', 3, 'CSE', 4, 'CSE3217', datetime.date(2025, 5, 26), 'present')\n",
            "('7ae7339d-e3bb-467a-9199-95fcc3918149', 14, 'CSE', 4, 'CSE3217', datetime.date(2025, 5, 26), 'present')\n"
          ]
        }
      ],
      "source": [
        "cur, conn = connect()\n",
        "cur.execute(\"SELECT * FROM mark_attendance\")\n",
        "res=cur.fetchall()\n",
        "for row in res:\n",
        "    print(row)"
      ]
    }
  ],
  "metadata": {
    "accelerator": "GPU",
    "colab": {
      "gpuType": "T4",
      "provenance": []
    },
    "kernelspec": {
      "display_name": ".venv",
      "language": "python",
      "name": "python3"
    },
    "language_info": {
      "codemirror_mode": {
        "name": "ipython",
        "version": 3
      },
      "file_extension": ".py",
      "mimetype": "text/x-python",
      "name": "python",
      "nbconvert_exporter": "python",
      "pygments_lexer": "ipython3",
      "version": "3.11.4"
    }
  },
  "nbformat": 4,
  "nbformat_minor": 0
}
